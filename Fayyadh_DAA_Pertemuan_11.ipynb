{
  "nbformat": 4,
  "nbformat_minor": 0,
  "metadata": {
    "colab": {
      "provenance": [],
      "authorship_tag": "ABX9TyPP7JGsy2nftbJ6XGf+eTIF",
      "include_colab_link": true
    },
    "kernelspec": {
      "name": "python3",
      "display_name": "Python 3"
    },
    "language_info": {
      "name": "python"
    }
  },
  "cells": [
    {
      "cell_type": "markdown",
      "metadata": {
        "id": "view-in-github",
        "colab_type": "text"
      },
      "source": [
        "<a href=\"https://colab.research.google.com/github/fayyadh678/TUGAS-DAA/blob/main/Fayyadh_DAA_Pertemuan_11.ipynb\" target=\"_parent\"><img src=\"https://colab.research.google.com/assets/colab-badge.svg\" alt=\"Open In Colab\"/></a>"
      ]
    },
    {
      "cell_type": "code",
      "execution_count": 2,
      "metadata": {
        "colab": {
          "base_uri": "https://localhost:8080/"
        },
        "id": "5L4iVPOHrtyB",
        "outputId": "8de74779-93f4-4a17-f4e0-6b0cba4c5392"
      },
      "outputs": [
        {
          "output_type": "stream",
          "name": "stdout",
          "text": [
            "MST (Prim): [('A', 'D', 10), ('D', 'G', 15), ('G', 'H', 21), ('H', 'F', 18), ('F', 'E', 8), ('F', 'C', 14), ('C', 'B', 15)]\n"
          ]
        }
      ],
      "source": [
        "import heapq\n",
        "\n",
        "def prim(graph, start):\n",
        "    mst = []\n",
        "    visited = set()\n",
        "    min_edges = [(0, start, None)]\n",
        "\n",
        "    while min_edges:\n",
        "        weight, current, from_node = heapq.heappop(min_edges)\n",
        "        if current not in visited:\n",
        "            visited.add(current)\n",
        "            if from_node is not None:\n",
        "                mst.append((from_node, current, weight))\n",
        "\n",
        "            for neighbor, weight in graph[current]:\n",
        "                if neighbor not in visited:\n",
        "                    heapq.heappush(min_edges, (weight, neighbor, current))\n",
        "\n",
        "    return mst\n",
        "\n",
        "# Contoh graph\n",
        "graph = {\n",
        "    'A': [('B', 24), ('D', 10)],\n",
        "    'B': [('A', 24), ('C', 15)],\n",
        "    'C': [('B', 15), ('F', 14)],\n",
        "    'D': [('A', 10), ('G', 15)],\n",
        "    'E': [('F', 8)],\n",
        "    'F': [('C', 14), ('E', 8)],\n",
        "    'G': [('D', 15), ('H', 21)],\n",
        "    'H': [('G', 21), ('F', 18)],\n",
        "    'I': []\n",
        "}\n",
        "\n",
        "mst_prim = prim(graph, 'A')\n",
        "print(\"MST (Prim):\", mst_prim)"
      ]
    },
    {
      "cell_type": "code",
      "source": [
        "def find(parent, node):\n",
        "    if parent[node] != node:\n",
        "        parent[node] = find(parent, parent[node])\n",
        "    return parent[node]\n",
        "\n",
        "def kruskal(graph):\n",
        "    edges = []\n",
        "\n",
        "    for node in graph:\n",
        "        for neighbor, weight in graph[node]:\n",
        "            edges.append((weight, node, neighbor))\n",
        "\n",
        "    edges.sort()\n",
        "    parent = {node: node for node in graph}\n",
        "    mst = []\n",
        "\n",
        "    for weight, u, v in edges:\n",
        "        root_u = find(parent, u)\n",
        "        root_v = find(parent, v)\n",
        "        if root_u != root_v:\n",
        "            parent[root_u] = root_v\n",
        "            mst.append((u, v, weight))\n",
        "\n",
        "    return mst\n",
        "\n",
        "mst_kruskal = kruskal(graph)\n",
        "print(\"MST (Kruskal):\", mst_kruskal)"
      ],
      "metadata": {
        "colab": {
          "base_uri": "https://localhost:8080/"
        },
        "id": "CnrAJQ5JwDxB",
        "outputId": "2debec08-05e6-46a2-ce18-8213f22eac44"
      },
      "execution_count": 3,
      "outputs": [
        {
          "output_type": "stream",
          "name": "stdout",
          "text": [
            "MST (Kruskal): [('E', 'F', 8), ('A', 'D', 10), ('C', 'F', 14), ('B', 'C', 15), ('D', 'G', 15), ('H', 'F', 18), ('G', 'H', 21)]\n"
          ]
        }
      ]
    },
    {
      "cell_type": "code",
      "source": [
        "def greedy_shortest_path(graph, start, goal):\n",
        "    queue = [(0, start)]\n",
        "    visited = set()\n",
        "    distances = {node: float('infinity') for node in graph}\n",
        "    distances[start] = 0\n",
        "\n",
        "    while queue:\n",
        "        current_distance, current_node = heapq.heappop(queue)\n",
        "\n",
        "        if current_node in visited:\n",
        "            continue\n",
        "\n",
        "        visited.add(current_node)\n",
        "\n",
        "        if current_node == goal:\n",
        "            return current_distance\n",
        "\n",
        "        for neighbor, weight in graph[current_node]:\n",
        "            distance = current_distance + weight\n",
        "\n",
        "            if distance < distances[neighbor]:\n",
        "                distances[neighbor] = distance\n",
        "                heapq.heappush(queue, (distance, neighbor))\n",
        "\n",
        "    return distances[goal]\n",
        "\n",
        "shortest_path_distance = greedy_shortest_path(graph, 'A', 'F')\n",
        "print(\"Shortest Path (Greedy):\", shortest_path_distance)"
      ],
      "metadata": {
        "colab": {
          "base_uri": "https://localhost:8080/"
        },
        "id": "V2iYDWtwwK0J",
        "outputId": "00422507-c83c-44da-e2aa-a8f068807e3d"
      },
      "execution_count": 4,
      "outputs": [
        {
          "output_type": "stream",
          "name": "stdout",
          "text": [
            "Shortest Path (Greedy): 53\n"
          ]
        }
      ]
    },
    {
      "cell_type": "markdown",
      "source": [
        "Kelemahan Metode Greedy\n",
        "Metode Greedy tidak selalu menghasilkan solusi optimal. Misalnya, dalam beberapa kasus, pilihan terbaik lokal tidak menghasilkan jalur terpendek secara global.\n",
        "Penyelesaian yang diperoleh bisa lebih panjang atau tidak efisien dibandingkan dengan metode lain seperti Dijkstra atau A*.\n",
        "Silakan terapkan langkah-langkah di atas sesuai diagram yang tersedia untuk mendapatkan hasil akhir."
      ],
      "metadata": {
        "id": "Hsqa-eYrwMIX"
      }
    }
  ]
}