{
  "nbformat": 4,
  "nbformat_minor": 0,
  "metadata": {
    "colab": {
      "provenance": [],
      "authorship_tag": "ABX9TyMFgy1bY2A0VTni6o8PPHOt",
      "include_colab_link": true
    },
    "kernelspec": {
      "name": "python3",
      "display_name": "Python 3"
    },
    "language_info": {
      "name": "python"
    }
  },
  "cells": [
    {
      "cell_type": "markdown",
      "metadata": {
        "id": "view-in-github",
        "colab_type": "text"
      },
      "source": [
        "<a href=\"https://colab.research.google.com/github/fayyadh678/TUGAS-DAA/blob/main/Fayyadh_DAA_Pertemuan_11.ipynb\" target=\"_parent\"><img src=\"https://colab.research.google.com/assets/colab-badge.svg\" alt=\"Open In Colab\"/></a>"
      ]
    },
    {
      "cell_type": "code",
      "execution_count": null,
      "metadata": {
        "colab": {
          "base_uri": "https://localhost:8080/"
        },
        "id": "5L4iVPOHrtyB",
        "outputId": "8de74779-93f4-4a17-f4e0-6b0cba4c5392"
      },
      "outputs": [
        {
          "output_type": "stream",
          "name": "stdout",
          "text": [
            "MST (Prim): [('A', 'D', 10), ('D', 'G', 15), ('G', 'H', 21), ('H', 'F', 18), ('F', 'E', 8), ('F', 'C', 14), ('C', 'B', 15)]\n"
          ]
        }
      ],
      "source": [
        "import heapq\n",
        "\n",
        "def prim(graph, start):\n",
        "    mst = []\n",
        "    visited = set()\n",
        "    min_edges = [(0, start, None)]\n",
        "\n",
        "    while min_edges:\n",
        "        weight, current, from_node = heapq.heappop(min_edges)\n",
        "        if current not in visited:\n",
        "            visited.add(current)\n",
        "            if from_node is not None:\n",
        "                mst.append((from_node, current, weight))\n",
        "\n",
        "            for neighbor, weight in graph[current]:\n",
        "                if neighbor not in visited:\n",
        "                    heapq.heappush(min_edges, (weight, neighbor, current))\n",
        "\n",
        "    return mst\n",
        "\n",
        "# Contoh graph\n",
        "graph = {\n",
        "    'A': [('B', 24), ('D', 10)],\n",
        "    'B': [('A', 24), ('C', 15)],\n",
        "    'C': [('B', 15), ('F', 14)],\n",
        "    'D': [('A', 10), ('G', 15)],\n",
        "    'E': [('F', 8)],\n",
        "    'F': [('C', 14), ('E', 8)],\n",
        "    'G': [('D', 15), ('H', 21)],\n",
        "    'H': [('G', 21), ('F', 18)],\n",
        "    'I': []\n",
        "}\n",
        "\n",
        "mst_prim = prim(graph, 'A')\n",
        "print(\"MST (Prim):\", mst_prim)"
      ]
    },
    {
      "cell_type": "code",
      "source": [
        "def find(parent, node):\n",
        "    if parent[node] != node:\n",
        "        parent[node] = find(parent, parent[node])\n",
        "    return parent[node]\n",
        "\n",
        "def kruskal(graph):\n",
        "    edges = []\n",
        "\n",
        "    for node in graph:\n",
        "        for neighbor, weight in graph[node]:\n",
        "            edges.append((weight, node, neighbor))\n",
        "\n",
        "    edges.sort()\n",
        "    parent = {node: node for node in graph}\n",
        "    mst = []\n",
        "\n",
        "    for weight, u, v in edges:\n",
        "        root_u = find(parent, u)\n",
        "        root_v = find(parent, v)\n",
        "        if root_u != root_v:\n",
        "            parent[root_u] = root_v\n",
        "            mst.append((u, v, weight))\n",
        "\n",
        "    return mst\n",
        "\n",
        "mst_kruskal = kruskal(graph)\n",
        "print(\"MST (Kruskal):\", mst_kruskal)"
      ],
      "metadata": {
        "colab": {
          "base_uri": "https://localhost:8080/"
        },
        "id": "CnrAJQ5JwDxB",
        "outputId": "2debec08-05e6-46a2-ce18-8213f22eac44"
      },
      "execution_count": null,
      "outputs": [
        {
          "output_type": "stream",
          "name": "stdout",
          "text": [
            "MST (Kruskal): [('E', 'F', 8), ('A', 'D', 10), ('C', 'F', 14), ('B', 'C', 15), ('D', 'G', 15), ('H', 'F', 18), ('G', 'H', 21)]\n"
          ]
        }
      ]
    },
    {
      "cell_type": "code",
      "source": [
        "def greedy_shortest_path(graph, start, goal):\n",
        "    queue = [(0, start)]\n",
        "    visited = set()\n",
        "    distances = {node: float('infinity') for node in graph}\n",
        "    distances[start] = 0\n",
        "\n",
        "    while queue:\n",
        "        current_distance, current_node = heapq.heappop(queue)\n",
        "\n",
        "        if current_node in visited:\n",
        "            continue\n",
        "\n",
        "        visited.add(current_node)\n",
        "\n",
        "        if current_node == goal:\n",
        "            return current_distance\n",
        "\n",
        "        for neighbor, weight in graph[current_node]:\n",
        "            distance = current_distance + weight\n",
        "\n",
        "            if distance < distances[neighbor]:\n",
        "                distances[neighbor] = distance\n",
        "                heapq.heappush(queue, (distance, neighbor))\n",
        "\n",
        "    return distances[goal]\n",
        "\n",
        "shortest_path_distance = greedy_shortest_path(graph, 'A', 'F')\n",
        "print(\"Shortest Path (Greedy):\", shortest_path_distance)"
      ],
      "metadata": {
        "colab": {
          "base_uri": "https://localhost:8080/"
        },
        "id": "V2iYDWtwwK0J",
        "outputId": "00422507-c83c-44da-e2aa-a8f068807e3d"
      },
      "execution_count": null,
      "outputs": [
        {
          "output_type": "stream",
          "name": "stdout",
          "text": [
            "Shortest Path (Greedy): 53\n"
          ]
        }
      ]
    },
    {
      "cell_type": "markdown",
      "source": [
        "Kelemahan Metode Greedy\n",
        "Metode Greedy tidak selalu menghasilkan solusi optimal. Misalnya, dalam beberapa kasus, pilihan terbaik lokal tidak menghasilkan jalur terpendek secara global.\n",
        "Penyelesaian yang diperoleh bisa lebih panjang atau tidak efisien dibandingkan dengan metode lain seperti Dijkstra atau A*.\n",
        "Silakan terapkan langkah-langkah di atas sesuai diagram yang tersedia untuk mendapatkan hasil akhir."
      ],
      "metadata": {
        "id": "Hsqa-eYrwMIX"
      }
    },
    {
      "cell_type": "code",
      "source": [
        "!pip install networkx matplotlib"
      ],
      "metadata": {
        "colab": {
          "base_uri": "https://localhost:8080/"
        },
        "id": "cKmAs4iaw1kJ",
        "outputId": "f3d32e65-9198-49fd-e575-471d4260bb3f"
      },
      "execution_count": 12,
      "outputs": [
        {
          "output_type": "stream",
          "name": "stdout",
          "text": [
            "Requirement already satisfied: networkx in /usr/local/lib/python3.10/dist-packages (3.4.2)\n",
            "Requirement already satisfied: matplotlib in /usr/local/lib/python3.10/dist-packages (3.8.0)\n",
            "Requirement already satisfied: contourpy>=1.0.1 in /usr/local/lib/python3.10/dist-packages (from matplotlib) (1.3.1)\n",
            "Requirement already satisfied: cycler>=0.10 in /usr/local/lib/python3.10/dist-packages (from matplotlib) (0.12.1)\n",
            "Requirement already satisfied: fonttools>=4.22.0 in /usr/local/lib/python3.10/dist-packages (from matplotlib) (4.55.0)\n",
            "Requirement already satisfied: kiwisolver>=1.0.1 in /usr/local/lib/python3.10/dist-packages (from matplotlib) (1.4.7)\n",
            "Requirement already satisfied: numpy<2,>=1.21 in /usr/local/lib/python3.10/dist-packages (from matplotlib) (1.26.4)\n",
            "Requirement already satisfied: packaging>=20.0 in /usr/local/lib/python3.10/dist-packages (from matplotlib) (24.2)\n",
            "Requirement already satisfied: pillow>=6.2.0 in /usr/local/lib/python3.10/dist-packages (from matplotlib) (11.0.0)\n",
            "Requirement already satisfied: pyparsing>=2.3.1 in /usr/local/lib/python3.10/dist-packages (from matplotlib) (3.2.0)\n",
            "Requirement already satisfied: python-dateutil>=2.7 in /usr/local/lib/python3.10/dist-packages (from matplotlib) (2.8.2)\n",
            "Requirement already satisfied: six>=1.5 in /usr/local/lib/python3.10/dist-packages (from python-dateutil>=2.7->matplotlib) (1.16.0)\n"
          ]
        }
      ]
    },
    {
      "cell_type": "code",
      "source": [
        "import networkx as nx\n",
        "import matplotlib.pyplot as plt\n",
        "\n",
        "# Membuat grafik\n",
        "G = nx.Graph()\n",
        "\n",
        "# Menambahkan simpul\n",
        "nodes = ['T', 'U', 'V', 'W', 'X', 'Z', 'S']\n",
        "G.add_nodes_from(nodes)\n",
        "\n",
        "# Menambahkan tepi (edges) termasuk T ke Z dan V ke S\n",
        "edges = [\n",
        "    ('T', 'U'),\n",
        "    ('U', 'V'),\n",
        "    ('T', 'W'),\n",
        "    ('W', 'X'),\n",
        "    ('X', 'S'),\n",
        "    ('W', 'Z'),\n",
        "    ('V', 'X'),\n",
        "    ('T', 'Z'),  # Koneksi baru antara T dan Z\n",
        "    ('V', 'S')   # Koneksi baru antara V dan S\n",
        "]\n",
        "\n",
        "G.add_edges_from(edges)\n",
        "\n",
        "# Menggambar grafik\n",
        "pos = {\n",
        "    'T': (0, 2), 'U': (1, 2), 'V': (2, 2),\n",
        "    'W': (0, 1), 'X': (1, 1),\n",
        "    'Z': (0, 0), 'S': (1, 0)\n",
        "}\n",
        "nx.draw(G, pos, with_labels=True, node_size=700, node_color='lightblue', font_size=12, font_weight='bold', edge_color='gray')\n",
        "plt.title(\"Grafik Struktur dengan Koneksi Baru\")\n",
        "plt.show()\n",
        "\n",
        "# Menampilkan edge yang terkait dengan simpul T, U, dan V\n",
        "print(\"Edges terkait simpul T, U, dan V:\")\n",
        "for edge in G.edges(['T', 'U', 'V']):\n",
        "    print(edge)"
      ],
      "metadata": {
        "colab": {
          "base_uri": "https://localhost:8080/",
          "height": 667
        },
        "id": "6gCcJWS_yJkc",
        "outputId": "511e1db8-03b1-4e09-9385-ceda60376933"
      },
      "execution_count": 28,
      "outputs": [
        {
          "output_type": "display_data",
          "data": {
            "text/plain": [
              "<Figure size 640x480 with 1 Axes>"
            ],
            "image/png": "[encoded data removed]"
          },
          "metadata": {}
        },
        {
          "output_type": "stream",
          "name": "stdout",
          "text": [
            "Edges terkait simpul T, U, dan V:\n",
            "('T', 'U')\n",
            "('T', 'W')\n",
            "('T', 'Z')\n",
            "('U', 'V')\n",
            "('V', 'X')\n",
            "('V', 'S')\n"
          ]
        }
      ]
    },
    {
      "cell_type": "code",
      "source": [
        "import networkx as nx\n",
        "import matplotlib.pyplot as plt\n",
        "\n",
        "# Membuat grafik\n",
        "G = nx.Graph()\n",
        "\n",
        "# Menambahkan simpul, sekarang termasuk K dan J\n",
        "nodes = ['r', 'o', 'm', 'l', 'p', 'n', 'K', 'J']\n",
        "G.add_nodes_from(nodes)\n",
        "\n",
        "# Menambahkan tepi (edges) sesuai dengan struktur yang diperbarui\n",
        "edges = [\n",
        "    ('r', 'o'),\n",
        "    ('o', 'm'),\n",
        "    ('r', 'l'),\n",
        "    ('o', 'p'),\n",
        "    ('m', 'n'),\n",
        "    ('l', 'p'),\n",
        "    ('p', 'n'),\n",
        "    ('l', 'K'),  # Menambahkan K yang terhubung ke L\n",
        "    ('n', 'J'),  # Menambahkan J yang terhubung ke N\n",
        "    ('r', 'K'),  # Menambahkan K yang terhubung ke R\n",
        "    ('m', 'J')   # Menambahkan J yang terhubung ke M\n",
        "]\n",
        "\n",
        "G.add_edges_from(edges)\n",
        "\n",
        "# Menggambar grafik\n",
        "pos = {\n",
        "    'r': (0, 2), 'o': (1, 2), 'm': (2, 2),\n",
        "    'l': (0, 1), 'p': (1, 1), 'n': (2, 1),\n",
        "    'K': (0, 0), 'J': (2, 0)\n",
        "}\n",
        "nx.draw(G, pos, with_labels=True, node_size=700, node_color='lightblue',\n",
        "        font_size=12, font_weight='bold', edge_color='gray')\n",
        "plt.title(\"Grafik Struktur dengan Koneksi Baru\")\n",
        "plt.show()\n",
        "\n",
        "# Menampilkan edge yang terkait dengan simpul 'r', 'o', dan 'm'\n",
        "print(\"Edges terkait simpul 'r', 'o', dan 'm':\")\n",
        "nodes_of_interest = ['r', 'o', 'm']\n",
        "for edge in G.edges(nodes_of_interest):\n",
        "    print(edge)"
      ],
      "metadata": {
        "colab": {
          "base_uri": "https://localhost:8080/",
          "height": 685
        },
        "id": "tebqk0ZozjDG",
        "outputId": "1923e949-b1af-4831-e759-f2ca90f8e7c8"
      },
      "execution_count": 29,
      "outputs": [
        {
          "output_type": "display_data",
          "data": {
            "text/plain": [
              "<Figure size 640x480 with 1 Axes>"
            ],
            "image/png": "[encoded data removed]"
          },
          "metadata": {}
        },
        {
          "output_type": "stream",
          "name": "stdout",
          "text": [
            "Edges terkait simpul 'r', 'o', dan 'm':\n",
            "('r', 'o')\n",
            "('r', 'l')\n",
            "('r', 'K')\n",
            "('o', 'm')\n",
            "('o', 'p')\n",
            "('m', 'n')\n",
            "('m', 'J')\n"
          ]
        }
      ]
    }
  ]
}