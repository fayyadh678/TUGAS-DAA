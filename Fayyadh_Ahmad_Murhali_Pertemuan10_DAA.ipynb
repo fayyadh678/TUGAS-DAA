{
  "nbformat": 4,
  "nbformat_minor": 0,
  "metadata": {
    "colab": {
      "provenance": [],
      "include_colab_link": true
    },
    "kernelspec": {
      "name": "python3",
      "display_name": "Python 3"
    },
    "language_info": {
      "name": "python"
    }
  },
  "cells": [
    {
      "cell_type": "markdown",
      "metadata": {
        "id": "view-in-github",
        "colab_type": "text"
      },
      "source": [
        "<a href=\"https://colab.research.google.com/github/fayyadh678/TUGAS-DAA/blob/main/Fayyadh_Ahmad_Murhali_Pertemuan10_DAA.ipynb\" target=\"_parent\"><img src=\"https://colab.research.google.com/assets/colab-badge.svg\" alt=\"Open In Colab\"/></a>"
      ]
    },
    {
      "cell_type": "code",
      "execution_count": null,
      "metadata": {
        "colab": {
          "base_uri": "https://localhost:8080/"
        },
        "id": "dIl_W-kfrmVM",
        "outputId": "beea89dd-301f-4e1d-b858-5ea7ab0a9df5"
      },
      "outputs": [
        {
          "output_type": "stream",
          "name": "stdout",
          "text": [
            "Collecting pulp\n",
            "  Downloading PuLP-2.9.0-py3-none-any.whl.metadata (5.4 kB)\n",
            "Downloading PuLP-2.9.0-py3-none-any.whl (17.7 MB)\n",
            "\u001b[2K   \u001b[90m━━━━━━━━━━━━━━━━━━━━━━━━━━━━━━━━━━━━━━━━\u001b[0m \u001b[32m17.7/17.7 MB\u001b[0m \u001b[31m24.9 MB/s\u001b[0m eta \u001b[36m0:00:00\u001b[0m\n",
            "\u001b[?25hInstalling collected packages: pulp\n",
            "Successfully installed pulp-2.9.0\n"
          ]
        }
      ],
      "source": [
        "pip install pulp\n"
      ]
    },
    {
      "cell_type": "code",
      "source": [
        "import pulp"
      ],
      "metadata": {
        "id": "A-M1-2hprrtK"
      },
      "execution_count": null,
      "outputs": []
    },
    {
      "cell_type": "code",
      "source": [],
      "metadata": {
        "id": "3d0d3dbux9Hm"
      },
      "execution_count": null,
      "outputs": []
    },
    {
      "cell_type": "code",
      "source": [
        "model = pulp.LpProblem(\"ProfitMaximisingProblem\", pulp.LpMaximize)"
      ],
      "metadata": {
        "id": "6CkvppN-sCsv"
      },
      "execution_count": null,
      "outputs": []
    },
    {
      "cell_type": "code",
      "source": [
        "A = pulp.LpVariable('A', lowBound=0, cat='Integer')\n",
        "B = pulp.LpVariable('B', lowBound=0, cat='Integer')"
      ],
      "metadata": {
        "id": "82xKoEpvsJVe"
      },
      "execution_count": null,
      "outputs": []
    },
    {
      "cell_type": "code",
      "source": [
        "model += 5000 * A + 2500 * B, \"Profit\"\n",
        "model += 3 * A + 2 * B <= 20\n",
        "model += 4 * A + 3 * B <= 30\n",
        "model += 4 * A + 3 * B <= 44"
      ],
      "metadata": {
        "id": "9AyWtcTesOpL"
      },
      "execution_count": null,
      "outputs": []
    },
    {
      "cell_type": "code",
      "source": [
        "model.solve()\n",
        "pulp.LpStatus[model.status]"
      ],
      "metadata": {
        "colab": {
          "base_uri": "https://localhost:8080/",
          "height": 36
        },
        "id": "mKQvsei0sS5A",
        "outputId": "a945ee3c-6cab-431b-d880-d8bd355dbbcf"
      },
      "execution_count": null,
      "outputs": [
        {
          "output_type": "execute_result",
          "data": {
            "text/plain": [
              "'Optimal'"
            ],
            "application/vnd.google.colaboratory.intrinsic+json": {
              "type": "string"
            }
          },
          "metadata": {},
          "execution_count": 6
        }
      ]
    },
    {
      "cell_type": "code",
      "source": [
        "print(A.varValue)\n",
        "print(B.varValue)"
      ],
      "metadata": {
        "colab": {
          "base_uri": "https://localhost:8080/"
        },
        "id": "5pmLsw19sZ4g",
        "outputId": "3c1af286-28a6-4812-884b-92c4a44df00f"
      },
      "execution_count": null,
      "outputs": [
        {
          "output_type": "stream",
          "name": "stdout",
          "text": [
            "6.0\n",
            "1.0\n"
          ]
        }
      ]
    },
    {
      "cell_type": "code",
      "source": [
        "print (pulp.value(model.objective))"
      ],
      "metadata": {
        "colab": {
          "base_uri": "https://localhost:8080/"
        },
        "id": "KgvGYlp6scyL",
        "outputId": "97f9bae9-9d03-43b4-947f-bbd9abc9a488"
      },
      "execution_count": null,
      "outputs": [
        {
          "output_type": "stream",
          "name": "stdout",
          "text": [
            "32500.0\n"
          ]
        }
      ]
    },
    {
      "cell_type": "markdown",
      "source": [
        "**LATIHAN**"
      ],
      "metadata": {
        "id": "EZ9wyLH2snTG"
      }
    },
    {
      "cell_type": "code",
      "source": [
        "# 4x = 3y = 34\n",
        "import pulp\n",
        "from pulp import LpProblem, LpMinimize, LpVariable # Import necessary classes from pulp\n",
        "\n",
        "model = LpProblem(name=\"Pemecahan_Persamaan\", sense=LpMinimize)\n",
        "\n",
        "x = LpVariable(name=\"x\")\n",
        "y = LpVariable(name=\"y\")\n",
        "\n",
        "model += 4 * x + 3 * y == 34\n",
        "\n",
        "model.solve()\n",
        "\n",
        "print(\"Status: \", model.status)\n",
        "print(\"Nilai x =\", x.varValue)\n",
        "print(\"Nilai y =\", y.varValue)"
      ],
      "metadata": {
        "colab": {
          "base_uri": "https://localhost:8080/"
        },
        "id": "yVUrkHmMscuy",
        "outputId": "5c8c54ec-4641-4cd2-92d9-4e1d04990ee5"
      },
      "execution_count": null,
      "outputs": [
        {
          "output_type": "stream",
          "name": "stdout",
          "text": [
            "Status:  1\n",
            "Nilai x = 8.5\n",
            "Nilai y = 0.0\n"
          ]
        }
      ]
    },
    {
      "cell_type": "code",
      "source": [
        "# 5x + y = 37\n",
        "import pulp\n",
        "from pulp import LpProblem, LpMinimize, LpVariable # Import necessary classes from pulp\n",
        "\n",
        "model = LpProblem(name=\"Pemecahan_Persamaan\", sense=LpMinimize)\n",
        "\n",
        "x = LpVariable(name=\"x\")\n",
        "y = LpVariable(name=\"y\")\n",
        "\n",
        "model += 5 * x +  y == 37\n",
        "\n",
        "model.solve()\n",
        "\n",
        "print(\"Status: \", model.status)\n",
        "print(\"Nilai x =\", x.varValue)\n",
        "print(\"Nilai y =\", y.varValue)"
      ],
      "metadata": {
        "colab": {
          "base_uri": "https://localhost:8080/"
        },
        "id": "uXssVpR3tt-m",
        "outputId": "9d5ac1a7-1bad-4e0b-f4d8-e58ae57c9953"
      },
      "execution_count": null,
      "outputs": [
        {
          "output_type": "stream",
          "name": "stdout",
          "text": [
            "Status:  1\n",
            "Nilai x = 7.4\n",
            "Nilai y = 0.0\n"
          ]
        }
      ]
    },
    {
      "cell_type": "markdown",
      "source": [
        "**SLIDE 25**"
      ],
      "metadata": {
        "id": "uZC3_CbAyg19"
      }
    },
    {
      "cell_type": "code",
      "source": [
        "# Menggunakan numpy untuk menyelesaikan sistem persamaan\n",
        "import numpy as np\n",
        "\n",
        "# Sistem persamaan:\n",
        "# 1. 2P + 4B = 11,000\n",
        "# 2. P + 7B = 15,000\n",
        "\n",
        "# Menyusun matriks koefisien dan konstanta\n",
        "A = np.array([[2, 4], [1, 7]])  # Matriks koefisien\n",
        "b = np.array([11000, 15000])    # Matriks konstanta\n",
        "\n",
        "# Menggunakan numpy.linalg.solve untuk menyelesaikan sistem persamaan\n",
        "solusi = np.linalg.solve(A, b)\n",
        "\n",
        "# Menyimpan hasil\n",
        "harga_pensil = solusi[0]  # Harga satu pensil\n",
        "harga_buku = solusi[1]    # Harga satu buku\n",
        "\n",
        "# Menghitung harga 2P dan 6B\n",
        "harga_dua_pensil = 2 * harga_pensil\n",
        "harga_enam_buku = 6 * harga_buku\n",
        "\n",
        "# Menampilkan hasil\n",
        "print(f\"Harga satu pensil (P) adalah Rp {harga_pensil:,.0f}\")\n",
        "print(f\"Harga satu buku (B) adalah Rp {harga_buku:,.0f}\")\n",
        "print(f\"Harga dua buah pensil (2P) adalah Rp {harga_dua_pensil:,.0f}\")\n",
        "print(f\"Harga enam buah buku (6B) adalah Rp {harga_enam_buku:,.0f}\")\n"
      ],
      "metadata": {
        "colab": {
          "base_uri": "https://localhost:8080/"
        },
        "id": "ka4xKBsQx99J",
        "outputId": "ab1ca26b-41ea-4c6d-a5e6-6b2902f763c8"
      },
      "execution_count": null,
      "outputs": [
        {
          "output_type": "stream",
          "name": "stdout",
          "text": [
            "Harga satu pensil (P) adalah Rp 1,700\n",
            "Harga satu buku (B) adalah Rp 1,900\n",
            "Harga dua buah pensil (2P) adalah Rp 3,400\n",
            "Harga enam buah buku (6B) adalah Rp 11,400\n"
          ]
        }
      ]
    },
    {
      "cell_type": "markdown",
      "source": [
        "**SLIDE 26**"
      ],
      "metadata": {
        "id": "fjejXzV8yvFr"
      }
    },
    {
      "cell_type": "code",
      "source": [
        "# Menggunakan metode substitusi untuk menyelesaikan persamaan\n",
        "def hitung_panjang_lebar(keliling, selisih):\n",
        "    # Keliling adalah 2 * (p + l)\n",
        "    # l = p - selisih\n",
        "    # Dari persamaan keliling:\n",
        "    # p + l = keliling / 2\n",
        "    total = keliling / 2  # p + l\n",
        "    panjang = (total + selisih) / 2\n",
        "    lebar = panjang - selisih\n",
        "    return panjang, lebar\n",
        "\n",
        "# Input soal\n",
        "keliling = 44\n",
        "selisih_lebar = 6\n",
        "\n",
        "# Hitung panjang dan lebar\n",
        "panjang, lebar = hitung_panjang_lebar(keliling, selisih_lebar)\n",
        "\n",
        "# Tampilkan hasil\n",
        "print(f\"Panjang persegi panjang adalah {panjang:.1f} cm\")\n",
        "print(f\"Lebar persegi panjang adalah {lebar:.1f} cm\")\n"
      ],
      "metadata": {
        "colab": {
          "base_uri": "https://localhost:8080/"
        },
        "id": "wrs3k8yayyc2",
        "outputId": "ac0c80ae-4179-4501-a73d-1e1b84a677d9"
      },
      "execution_count": null,
      "outputs": [
        {
          "output_type": "stream",
          "name": "stdout",
          "text": [
            "Panjang persegi panjang adalah 14.0 cm\n",
            "Lebar persegi panjang adalah 8.0 cm\n"
          ]
        }
      ]
    },
    {
      "cell_type": "markdown",
      "source": [
        "**SLIDE 26-30**"
      ],
      "metadata": {
        "id": "NTUTjxqDzbyZ"
      }
    },
    {
      "cell_type": "code",
      "source": [
        "def hitung_panjang_lebar(keliling, selisih):\n",
        "    # Keliling = 2 * (P + L)\n",
        "    # L = P - selisih\n",
        "    # Dari persamaan keliling:\n",
        "    # P + L = keliling / 2\n",
        "    total = keliling / 2  # P + L\n",
        "    panjang = (total + selisih) / 2\n",
        "    lebar = panjang - selisih\n",
        "    return panjang, lebar\n",
        "\n",
        "# Input data\n",
        "keliling = 44  # dalam meter\n",
        "selisih_lebar = 6  # L = P - 6\n",
        "\n",
        "# Hitung panjang dan lebar\n",
        "panjang, lebar = hitung_panjang_lebar(keliling, selisih_lebar)\n",
        "\n",
        "# Tampilkan hasil\n",
        "print(f\"Panjang kebun adalah {panjang:.1f} meter\")\n",
        "print(f\"Lebar kebun adalah {lebar:.1f} meter\")\n"
      ],
      "metadata": {
        "colab": {
          "base_uri": "https://localhost:8080/"
        },
        "id": "Utd-QWCDzjkA",
        "outputId": "e2ff4696-76d6-4119-9298-eb72cbc62f76"
      },
      "execution_count": null,
      "outputs": [
        {
          "output_type": "stream",
          "name": "stdout",
          "text": [
            "Panjang kebun adalah 14.0 meter\n",
            "Lebar kebun adalah 8.0 meter\n"
          ]
        }
      ]
    },
    {
      "cell_type": "markdown",
      "source": [
        "**SLIDE 34-39**"
      ],
      "metadata": {
        "id": "zhCP73psz_Zx"
      }
    },
    {
      "cell_type": "code",
      "source": [
        "import numpy as np\n",
        "from scipy.optimize import linprog"
      ],
      "metadata": {
        "id": "rK37PFCn0C5j"
      },
      "execution_count": null,
      "outputs": []
    },
    {
      "cell_type": "code",
      "source": [
        "A = np.array([[1, 0], [2, 3], [1, 1], [-1, 0], [0, -1]])"
      ],
      "metadata": {
        "id": "jf-E41H50UGC"
      },
      "execution_count": null,
      "outputs": []
    },
    {
      "cell_type": "code",
      "source": [
        "b = np.array([16, 19, 8, 0, 0])"
      ],
      "metadata": {
        "id": "5cnmOd5Y0ZC4"
      },
      "execution_count": null,
      "outputs": []
    },
    {
      "cell_type": "code",
      "source": [
        "C = np.array([-5, -7])"
      ],
      "metadata": {
        "id": "ZUJnj4zV0ezx"
      },
      "execution_count": null,
      "outputs": []
    },
    {
      "cell_type": "code",
      "source": [
        "res = linprog(C, A_ub=A, b_ub=b)\n",
        "print('Optimal value:', round(res.fun*-1, ndigits=2),\n",
        "      '\\nx values:', res.x,\n",
        "      '\\nNumber of iterations performed:', res.nit,\n",
        "      '\\nStatus:', res.message)"
      ],
      "metadata": {
        "colab": {
          "base_uri": "https://localhost:8080/"
        },
        "id": "rz3kG5Pt0hh-",
        "outputId": "771739dc-77cf-45b1-da2b-4f6c2a759379"
      },
      "execution_count": null,
      "outputs": [
        {
          "output_type": "stream",
          "name": "stdout",
          "text": [
            "Optimal value: 46.0 \n",
            "x values: [5. 3.] \n",
            "Number of iterations performed: 3 \n",
            "Status: Optimization terminated successfully. (HiGHS Status 7: Optimal)\n"
          ]
        }
      ]
    },
    {
      "cell_type": "markdown",
      "source": [
        "**SLIDE 40**"
      ],
      "metadata": {
        "id": "c3aI_gS70yvA"
      }
    },
    {
      "cell_type": "code",
      "source": [
        "from scipy.optimize import linprog\n",
        "\n",
        "C = [-5, -7]\n",
        "\n",
        "A = [\n",
        "    [1, 0],\n",
        "    [2, 3],\n",
        "    [1, 1],\n",
        "]\n",
        "\n",
        "b= [16, 19, 8]\n",
        "\n",
        "X1_bounds = (0, None)\n",
        "X2_bounds = (0, None)\n",
        "\n",
        "res = linprog(C, A_ub=A, b_ub=b, bounds=[X1_bounds, X2_bounds], method=\"highs\")\n",
        "\n",
        "print(\"Optimal Solution: \")\n",
        "print(\"X1 = \", round(res.x[0]))\n",
        "print(\"X2 = \", round(res.x[1]))\n",
        "print(\"MAx Z = \", -res.fun) # Changed 'result' to 'res' to access the optimization result"
      ],
      "metadata": {
        "id": "3JmwaXHP02hL",
        "colab": {
          "base_uri": "https://localhost:8080/"
        },
        "outputId": "01aeefcb-5c7c-4b3a-95a7-25da05d0a67a"
      },
      "execution_count": null,
      "outputs": [
        {
          "output_type": "stream",
          "name": "stdout",
          "text": [
            "Optimal Solution: \n",
            "X1 =  5\n",
            "X2 =  3\n",
            "MAx Z =  46.0\n"
          ]
        }
      ]
    },
    {
      "cell_type": "markdown",
      "source": [
        "**SLIDE 41**"
      ],
      "metadata": {
        "id": "c1rFXsQf2KGk"
      }
    },
    {
      "cell_type": "code",
      "source": [
        "#no 1 dan 2\n",
        "from scipy.linalg import solve\n",
        "\n",
        "# Definisikan koefisien dan konstanta dalam bentuk matriks\n",
        "A = [[4, 12], [2, 1]]  # Matriks koefisien\n",
        "b = [28, 21]            # Matriks konstanta\n",
        "\n",
        "# Cari nilai x dan y\n",
        "solusi = solve(A, b)\n",
        "\n",
        "# Menampilkan hasil\n",
        "x, y = solusi\n",
        "print(f\"Nilai x: {x:.2f}\")\n",
        "print(f\"Nilai y: {y:.2f}\")\n",
        "\n"
      ],
      "metadata": {
        "colab": {
          "base_uri": "https://localhost:8080/"
        },
        "id": "pNvxUQbd1Tlb",
        "outputId": "76836da8-22b1-4c10-eb18-dc3b8c102716"
      },
      "execution_count": null,
      "outputs": [
        {
          "output_type": "stream",
          "name": "stdout",
          "text": [
            "Nilai x: 11.20\n",
            "Nilai y: -1.40\n"
          ]
        }
      ]
    },
    {
      "cell_type": "code",
      "source": [
        "#no 3\n",
        "from scipy.linalg import solve\n",
        "\n",
        "# Matriks koefisien\n",
        "A = [[1, 1], [3, 4]]  # Matriks koefisien x dan y\n",
        "b = [16, 55]           # Matriks konstanta (jumlah jam kerja dan tas)\n",
        "\n",
        "# Menyelesaikan sistem persamaan\n",
        "solusi = solve(A, b)\n",
        "\n",
        "# Menampilkan hasil\n",
        "x, y = solusi\n",
        "print(f\"Jam kerja Lisa (x): {x:.2f} jam\")\n",
        "print(f\"Jam kerja Muri (y): {y:.2f} jam\")\n"
      ],
      "metadata": {
        "colab": {
          "base_uri": "https://localhost:8080/"
        },
        "id": "8HHW--rf4R86",
        "outputId": "39935cc2-9e25-4de5-b748-36d25f19ceb7"
      },
      "execution_count": null,
      "outputs": [
        {
          "output_type": "stream",
          "name": "stdout",
          "text": [
            "Jam kerja Lisa (x): 9.00 jam\n",
            "Jam kerja Muri (y): 7.00 jam\n"
          ]
        }
      ]
    }
  ]
}